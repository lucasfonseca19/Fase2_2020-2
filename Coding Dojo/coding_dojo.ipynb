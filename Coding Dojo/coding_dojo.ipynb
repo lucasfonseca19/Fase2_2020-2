{
 "cells": [
  {
   "cell_type": "code",
   "execution_count": 1,
   "metadata": {},
   "outputs": [
    {
     "name": "stdout",
     "output_type": "stream",
     "text": [
      "Hello World\n"
     ]
    }
   ],
   "source": [
    "print(\"Hello World\")"
   ]
  },
  {
   "cell_type": "code",
   "execution_count": null,
   "metadata": {},
   "outputs": [],
   "source": [
    "import random\n",
    "class Personagem:\n",
    "    def init(self,nome,pontos_vida,ponto_magia,arma,armadura,pocoes):\n",
    "        self.nome = nome\n",
    "        self.pontos_vida = pontos_vida_vida\n",
    "        self.ponto_magia = ponto_magia\n",
    "        self.arma = arma\n",
    "        self.armadura = armadura\n",
    "        self.pocao = pocoes \n",
    "    def atacar(self):\n",
    "    def lancar_magia(self):\n",
    "        return 30\n",
    "    def receber_ataques(self):\n",
    "    def beber_pocoes(self):\n",
    "        self.vida\n",
    "    def morrer(self):\n",
    "\n",
    "\n",
    "def arma():\n",
    "    dano = random.randrange(1,10)\n",
    "    return dano\n",
    "\n",
    "\n",
    "nome = input(str('Nome'))\n",
    "\n",
    "pontos_vida = 100\n",
    "pontos_magia = 50\n",
    "\n",
    "heroi =  Personagem(nome, pontos_vida, pontos_magia, )\n",
    "vilao = Personagem(nome, pontos_vida, pontos_magia, )"
   ]
  }
 ],
 "metadata": {
  "kernelspec": {
   "display_name": "Python 3",
   "language": "python",
   "name": "python3"
  },
  "language_info": {
   "codemirror_mode": {
    "name": "ipython",
    "version": 3
   },
   "file_extension": ".py",
   "mimetype": "text/x-python",
   "name": "python",
   "nbconvert_exporter": "python",
   "pygments_lexer": "ipython3",
   "version": "3.6.9"
  }
 },
 "nbformat": 4,
 "nbformat_minor": 4
}
