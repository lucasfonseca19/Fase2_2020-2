{
 "cells": [
  {
   "cell_type": "code",
   "execution_count": 1,
   "metadata": {},
   "outputs": [
    {
     "name": "stdout",
     "output_type": "stream",
     "text": [
      "Hello World\n"
     ]
    }
   ],
   "source": [
    "print(\"Hello World\")"
   ]
  },
  {
   "cell_type": "code",
   "execution_count": null,
   "metadata": {},
   "outputs": [],
   "source": [
    "import random\n",
    "class Personagem:\n",
    "    def __init__(self,nome,pontos_vida,ponto_magia,arma,armadura,pocoes):\n",
    "        self.nome = nome\n",
    "        self.pontos_vida = pontos_vida\n",
    "        self.pontos_magia = ponto_magia\n",
    "        self.arma = arma\n",
    "        self.armadura = armadura\n",
    "        self.pocao = pocoes \n",
    "\n",
    "    def atacar(self):\n",
    "        return self.arma\n",
    "    def lancar_magia(self):\n",
    "        pontos_magia=random.randint(0,100)\n",
    "        if pontos_magia<10:\n",
    "            self.pontos_vida -= self.pontos_vida*0.2\n",
    "            return -1\n",
    "        elif pontos_magia>=10 and pontos_magia<=30:\n",
    "            return 0\n",
    "        elif pontos_magia>=30 and pontos_magia<=80:\n",
    "            return 20\n",
    "        else:\n",
    "            return 50\n",
    "\n",
    "\n",
    "    def receber_ataques(self,ataque):\n",
    "        self.pontos_vida -= ataque\n",
    "\n",
    "    def beber_pocoes(self, pocao):\n",
    "        self.pontos_vida += 0.2 * self.pontos_vida\n",
    "\n",
    "    def morrer(self):\n",
    "        print(\"Você morreu meu jovem\")\n",
    "\n",
    "\n",
    "\n",
    "def arma():\n",
    "    dano = random.randrange(1,10)\n",
    "    return dano\n",
    "\n",
    "def armadura():\n",
    "    armadura = random.randrange(1,50)\n",
    "    return armadura\n",
    "\n",
    "\n",
    "\n",
    "\n",
    "\n",
    "run = True\n",
    "while run:\n",
    "    nome = input(str('Nome'))\n",
    "    pontos_magia = 50\n",
    "    arma = arma()\n",
    "    armadura = armadura()\n",
    "    pontos_vida = 100 + armadura\n",
    "\n",
    "    print(\"Ola {}, você começa com {} pontos de vida já contando com a armadura.\".format(nome,pontos_vida))\n",
    "    heroi =  Personagem(nome, pontos_vida, pontos_magia, arma, armadura, 0 )\n",
    "    vilao = Personagem(nome, pontos_vida, pontos_magia, arma, armadura, 0)\n",
    "    \n",
    "    while heroi.pontos_vida != 0 or vilao.pontos_vida != 0:\n",
    "        \n",
    "        opcao_ataque=int(input(\"Você gostaria de atacar com sua arma (1) ou com magia(2)\"))\n",
    "\n",
    "        if opcao_ataque==1 :\n",
    "            vilao.receber_ataques(heroi.atacar())\n",
    "        if opcao_ataque==2 :\n",
    "            magia = heroi.lancar_magia()\n",
    "            if magia < 0:\n",
    "                vilao.receber_ataques(0)\n",
    "            else:\n",
    "                vilao.receber_ataques(magia)\n",
    "\n",
    "        print (\"Agora você possui {} e o seu adversário, {}\".format(heroi.pontos_vida,vilao.pontos_vida))\n",
    "        \n",
    "        opcao_vilao = random.randint(1,3)\n",
    "        \n",
    "        if opcao_vilao==1 :\n",
    "            heroi.receber_ataques(vilao.atacar())\n",
    "        if opcao_vilao==2 :\n",
    "            magia = vilao.lancar_magia()\n",
    "            if magia < 0:\n",
    "                heroi.receber_ataques(0)\n",
    "            else:\n",
    "                heroi.receber_ataques(magia)\n",
    "                \n",
    "        print (\"Agora você possui {} e o seu adversário, {}\".format(heroi.pontos_vida,vilao.pontos_vida))\n",
    "        \n",
    "        run = False\n",
    "        break"
   ]
  },
  {
   "cell_type": "code",
   "execution_count": null,
   "metadata": {},
   "outputs": [],
   "source": []
  }
 ],
 "metadata": {
  "kernelspec": {
   "display_name": "Python 3",
   "language": "python",
   "name": "python3"
  },
  "language_info": {
   "codemirror_mode": {
    "name": "ipython",
    "version": 3
   },
   "file_extension": ".py",
   "mimetype": "text/x-python",
   "name": "python",
   "nbconvert_exporter": "python",
   "pygments_lexer": "ipython3",
   "version": "3.6.9"
  }
 },
 "nbformat": 4,
 "nbformat_minor": 4
}
